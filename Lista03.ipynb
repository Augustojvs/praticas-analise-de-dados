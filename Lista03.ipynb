{
 "metadata": {
  "language_info": {
   "codemirror_mode": {
    "name": "ipython",
    "version": 3
   },
   "file_extension": ".py",
   "mimetype": "text/x-python",
   "name": "python",
   "nbconvert_exporter": "python",
   "pygments_lexer": "ipython3",
   "version": "3.8.5-final"
  },
  "orig_nbformat": 2,
  "kernelspec": {
   "name": "python38564bit14a68ed3d72846d6a8d4c1a9b6e724fd",
   "display_name": "Python 3.8.5 64-bit"
  }
 },
 "nbformat": 4,
 "nbformat_minor": 2,
 "cells": [
  {
   "cell_type": "markdown",
   "metadata": {},
   "source": [
    "# Importar biblioteca piodbc"
   ]
  },
  {
   "cell_type": "code",
   "execution_count": 7,
   "metadata": {},
   "outputs": [],
   "source": [
    "import pyodbc"
   ]
  },
  {
   "cell_type": "code",
   "execution_count": 10,
   "metadata": {},
   "outputs": [],
   "source": [
    "class ConexaoBD ():\n",
    "    def conexao (self):\n",
    "        return pyodbc.connect (driver = '{SQL Server}', server = '.\\SQLEXPRESS', database = 'empresa', trusted_connection = 'yes')"
   ]
  },
  {
   "cell_type": "code",
   "execution_count": 11,
   "metadata": {},
   "outputs": [],
   "source": [
    "class ConexaoBD ():\n",
    "    def conexao (self):\n",
    "        return pyodbc.connect (driver = '{SQL Server}', server = ' DESKTOPAD759B5\\SQLEXPRESS', database = 'empresa', trusted_connection = 'yes')"
   ]
  },
  {
   "cell_type": "code",
   "execution_count": 12,
   "metadata": {},
   "outputs": [],
   "source": [
    "class ConexaoBD ():\n",
    "    def conexao (self):\n",
    "        return pyodbc.connect (driver = '{SQL Server}', server = 'localhost\\SQLEXPRESS', database = 'empresa', trusted_connection = 'yes')"
   ]
  },
  {
   "cell_type": "code",
   "execution_count": 13,
   "metadata": {},
   "outputs": [],
   "source": [
    "bd = ConexaoBD ()\n",
    "c = bd.conexao ()"
   ]
  },
  {
   "cell_type": "code",
   "execution_count": 14,
   "metadata": {
    "tags": []
   },
   "outputs": [
    {
     "output_type": "stream",
     "name": "stdout",
     "text": "('DESKTOP-CJJGOS8\\\\SQLEXPRESS', )\n"
    }
   ],
   "source": [
    "cursor = c.cursor ()\n",
    "cursor.execute ('select @@servername')\n",
    "for nome in cursor:\n",
    "    print (nome)"
   ]
  },
  {
   "cell_type": "code",
   "execution_count": null,
   "metadata": {},
   "outputs": [],
   "source": []
  }
 ]
}