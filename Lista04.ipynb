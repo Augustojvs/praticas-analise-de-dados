{
 "metadata": {
  "language_info": {
   "codemirror_mode": {
    "name": "ipython",
    "version": 3
   },
   "file_extension": ".py",
   "mimetype": "text/x-python",
   "name": "python",
   "nbconvert_exporter": "python",
   "pygments_lexer": "ipython3",
   "version": "3.8.5-final"
  },
  "orig_nbformat": 2,
  "kernelspec": {
   "name": "python38564bit14a68ed3d72846d6a8d4c1a9b6e724fd",
   "display_name": "Python 3.8.5 64-bit"
  }
 },
 "nbformat": 4,
 "nbformat_minor": 2,
 "cells": [
  {
   "cell_type": "markdown",
   "metadata": {},
   "source": [
    "# Criar tabela Categoria"
   ]
  },
  {
   "cell_type": "code",
   "execution_count": 1,
   "metadata": {},
   "outputs": [],
   "source": [
    "# Importar biblioteca pyodbc:\n",
    "import pyodbc"
   ]
  },
  {
   "cell_type": "code",
   "execution_count": 2,
   "metadata": {},
   "outputs": [],
   "source": [
    "# Classe para conexão com o banco de dados:\n",
    "class ConexaoBD ():\n",
    "    def conectar (self):\n",
    "        return pyodbc.connect (driver = '{SQL Server}', server = '.\\SQLEXPRESS', database = 'empresa', trusted_connection = 'yes')\n",
    "# Pegar uma conexão com o banco de dados:\n",
    "bd = ConexaoBD ()\n",
    "conexao = bd.conectar ()"
   ]
  },
  {
   "cell_type": "code",
   "execution_count": 5,
   "metadata": {},
   "outputs": [
    {
     "output_type": "error",
     "ename": "ProgrammingError",
     "evalue": "('42S01', \"[42S01] [Microsoft][ODBC SQL Server Driver][SQL Server]Já existe um objeto com nome 'Categoria' no banco de dados. (2714) (SQLExecDirectW)\")",
     "traceback": [
      "\u001b[1;31m---------------------------------------------------------------------------\u001b[0m",
      "\u001b[1;31mProgrammingError\u001b[0m                          Traceback (most recent call last)",
      "\u001b[1;32m<ipython-input-5-b7de21d7f3ab>\u001b[0m in \u001b[0;36m<module>\u001b[1;34m\u001b[0m\n\u001b[0;32m     16\u001b[0m \u001b[1;33m\u001b[0m\u001b[0m\n\u001b[0;32m     17\u001b[0m \u001b[0mcategoria\u001b[0m \u001b[1;33m=\u001b[0m \u001b[0mCategoria\u001b[0m \u001b[1;33m(\u001b[0m\u001b[0mconexao\u001b[0m\u001b[1;33m)\u001b[0m\u001b[1;33m\u001b[0m\u001b[1;33m\u001b[0m\u001b[0m\n\u001b[1;32m---> 18\u001b[1;33m \u001b[0mcategoria\u001b[0m\u001b[1;33m.\u001b[0m\u001b[0mcriar\u001b[0m\u001b[1;33m(\u001b[0m\u001b[1;33m)\u001b[0m\u001b[1;33m\u001b[0m\u001b[1;33m\u001b[0m\u001b[0m\n\u001b[0m",
      "\u001b[1;32m<ipython-input-5-b7de21d7f3ab>\u001b[0m in \u001b[0;36mcriar\u001b[1;34m(self)\u001b[0m\n\u001b[0;32m     13\u001b[0m         '''\n\u001b[0;32m     14\u001b[0m         \u001b[1;32mwith\u001b[0m \u001b[0mself\u001b[0m\u001b[1;33m.\u001b[0m\u001b[0mconexao\u001b[0m\u001b[1;33m:\u001b[0m\u001b[1;33m\u001b[0m\u001b[1;33m\u001b[0m\u001b[0m\n\u001b[1;32m---> 15\u001b[1;33m             \u001b[0mself\u001b[0m\u001b[1;33m.\u001b[0m\u001b[0mconexao\u001b[0m\u001b[1;33m.\u001b[0m\u001b[0mexecute\u001b[0m \u001b[1;33m(\u001b[0m\u001b[0mddl\u001b[0m\u001b[1;33m)\u001b[0m\u001b[1;33m\u001b[0m\u001b[1;33m\u001b[0m\u001b[0m\n\u001b[0m\u001b[0;32m     16\u001b[0m \u001b[1;33m\u001b[0m\u001b[0m\n\u001b[0;32m     17\u001b[0m \u001b[0mcategoria\u001b[0m \u001b[1;33m=\u001b[0m \u001b[0mCategoria\u001b[0m \u001b[1;33m(\u001b[0m\u001b[0mconexao\u001b[0m\u001b[1;33m)\u001b[0m\u001b[1;33m\u001b[0m\u001b[1;33m\u001b[0m\u001b[0m\n",
      "\u001b[1;31mProgrammingError\u001b[0m: ('42S01', \"[42S01] [Microsoft][ODBC SQL Server Driver][SQL Server]Já existe um objeto com nome 'Categoria' no banco de dados. (2714) (SQLExecDirectW)\")"
     ]
    }
   ],
   "source": [
    "# Classe Categoria\n",
    "class Categoria:\n",
    "    def __init__(self, conexao):\n",
    "        self.conexao = conexao\n",
    "\n",
    "    def criar (self):\n",
    "        ddl = '''\n",
    "            create table Categoria (\n",
    "            id int primary key identity (1, 1), -- identity (inicio, incremento): especifica o valor                   inicial e de incremento.\n",
    "            nome varchar (32),\n",
    "            descricao text\n",
    "            );\n",
    "        '''\n",
    "        with self.conexao:\n",
    "            self.conexao.execute (ddl)\n",
    "\n",
    "categoria = Categoria (conexao)\n",
    "categoria.criar()"
   ]
  },
  {
   "cell_type": "markdown",
   "metadata": {},
   "source": [
    "# Exercício"
   ]
  },
  {
   "cell_type": "markdown",
   "metadata": {},
   "source": [
    "* 1) Em um notebook Jupyter, crie as classes correspondentes para criação das demais\n",
    "tabelas descritas na especificação do banco de dados. Os scripts para criação das tabelas\n",
    "são apresentados abaixo."
   ]
  },
  {
   "cell_type": "code",
   "execution_count": 6,
   "metadata": {},
   "outputs": [],
   "source": [
    "# Classe Vendedor\n",
    "class Vendedor:\n",
    "    def __init__(self, conexao):\n",
    "        self.conexao = conexao\n",
    "\n",
    "    def criar (self):\n",
    "        ddl = '''\n",
    "            CREATE TABLE Vendedor (\n",
    "            cpf varchar (14) primary key,\n",
    "            nome varchar (128),\n",
    "            email varchar (128),\n",
    "            telefone varchar (20),\n",
    "            endereco varchar (256)\n",
    "            );\n",
    "        '''\n",
    "        with self.conexao:\n",
    "            self.conexao.execute (ddl)\n",
    "\n",
    "vendedor = Vendedor (conexao)\n",
    "vendedor.criar()"
   ]
  },
  {
   "cell_type": "code",
   "execution_count": 8,
   "metadata": {},
   "outputs": [],
   "source": [
    "# Classe Produto\n",
    "class Produto:\n",
    "    def __init__(self, conexao):\n",
    "        self.conexao = conexao\n",
    "\n",
    "    def criar (self):\n",
    "        ddl = '''\n",
    "            CREATE TABLE Produto (\n",
    "            id int primary key identity (1, 1), \n",
    "            nome varchar (128),\n",
    "            descricao text,\n",
    "            marca varchar (32),\n",
    "            id_categoria int foreign key references Categoria (id)\n",
    "            );\n",
    "        '''\n",
    "        with self.conexao:\n",
    "            self.conexao.execute (ddl)\n",
    "\n",
    "produto = Produto (conexao)\n",
    "produto.criar()"
   ]
  },
  {
   "cell_type": "code",
   "execution_count": 9,
   "metadata": {},
   "outputs": [],
   "source": [
    "# Classe VendedorProduto\n",
    "class VendedorProduto:\n",
    "    def __init__(self, conexao):\n",
    "        self.conexao = conexao\n",
    "\n",
    "    def criar (self):\n",
    "        ddl = '''\n",
    "            CREATE TABLE VendedorProduto (\n",
    "            id int primary key identity (1, 1), \n",
    "            cpf_vendedor varchar (14) foreign key references Vendedor (cpf),\n",
    "            id_produto int foreign key references Produto (id),\n",
    "            quantidade int,\n",
    "            preco decimal\n",
    "            );\n",
    "        '''\n",
    "        with self.conexao:\n",
    "            self.conexao.execute (ddl)\n",
    "\n",
    "vendedorProduto = VendedorProduto (conexao)\n",
    "vendedorProduto.criar()"
   ]
  },
  {
   "cell_type": "markdown",
   "metadata": {},
   "source": [
    "* 2) Altere as classes criadas, incluindo, em cada uma delas, o método responsável por ler\n",
    "todos os registros da tabela correspondente. Exemplo:"
   ]
  },
  {
   "cell_type": "code",
   "execution_count": 15,
   "metadata": {
    "tags": []
   },
   "outputs": [
    {
     "output_type": "stream",
     "name": "stdout",
     "text": "(1, 'Peão', 'Brinquedos')\n"
    }
   ],
   "source": [
    "# Modificação da Classe Categoria\n",
    "class Categoria:\n",
    "    def __init__(self, conexao):\n",
    "        self.conexao = conexao\n",
    "\n",
    "    def exibir (self):\n",
    "        cursor = self.conexao.cursor()\n",
    "        cursor.execute(\"select * from Categoria\")\n",
    "            \n",
    "        for line in cursor:\n",
    "            print(line)\n",
    "\n",
    "categoria = Categoria (conexao)\n",
    "categoria.exibir()"
   ]
  },
  {
   "cell_type": "code",
   "execution_count": 19,
   "metadata": {
    "tags": []
   },
   "outputs": [
    {
     "output_type": "stream",
     "name": "stdout",
     "text": "('12345678922', 'Augusto', 'augusto_jvs@hotmail.com', '31975069204', 'rua radialista decio silveira - nº 202, céu azul')\n"
    }
   ],
   "source": [
    "# Modificação da Classe Vendedor\n",
    "class Vendedor:\n",
    "    def __init__(self, conexao):\n",
    "        self.conexao = conexao\n",
    "\n",
    "    def exibir (self):\n",
    "        cursor = self.conexao.cursor()\n",
    "        cursor.execute(\"select * from Vendedor\")\n",
    "            \n",
    "        for line in cursor:\n",
    "            print(line)\n",
    "\n",
    "vendedor = Vendedor (conexao)\n",
    "vendedor.exibir()"
   ]
  },
  {
   "cell_type": "code",
   "execution_count": 20,
   "metadata": {
    "tags": []
   },
   "outputs": [
    {
     "output_type": "stream",
     "name": "stdout",
     "text": "(1, 'Peão', 'peão de corda', 'non saber', 1)\n"
    }
   ],
   "source": [
    "# Modificação da Classe Produto\n",
    "class Produto:\n",
    "    def __init__(self, conexao):\n",
    "        self.conexao = conexao\n",
    "\n",
    "    def exibir (self):\n",
    "        cursor = self.conexao.cursor()\n",
    "        cursor.execute(\"select * from Produto\")\n",
    "            \n",
    "        for line in cursor:\n",
    "            print(line)\n",
    "\n",
    "produto = Produto (conexao)\n",
    "produto.exibir()"
   ]
  },
  {
   "cell_type": "code",
   "execution_count": 21,
   "metadata": {
    "tags": []
   },
   "outputs": [
    {
     "output_type": "stream",
     "name": "stdout",
     "text": "(1, '12345678922', 1, 5, Decimal('26'))\n"
    }
   ],
   "source": [
    "# Modificação da Classe VendedorProduto\n",
    "class VendedorProduto:\n",
    "    def __init__(self, conexao):\n",
    "        self.conexao = conexao\n",
    "\n",
    "    def exibir (self):\n",
    "        cursor = self.conexao.cursor()\n",
    "        cursor.execute(\"select * from VendedorProduto\")\n",
    "            \n",
    "        for line in cursor:\n",
    "            print(line)\n",
    "\n",
    "vendedorProduto = VendedorProduto (conexao)\n",
    "vendedorProduto.exibir()"
   ]
  },
  {
   "cell_type": "code",
   "execution_count": null,
   "metadata": {},
   "outputs": [],
   "source": []
  }
 ]
}